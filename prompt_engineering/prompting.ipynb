{
  "nbformat": 4,
  "nbformat_minor": 0,
  "metadata": {
    "colab": {
      "provenance": [],
      "authorship_tag": "ABX9TyMNZYas0bbENrLGcG/c8aCr",
      "include_colab_link": true
    },
    "kernelspec": {
      "name": "python3",
      "display_name": "Python 3"
    },
    "language_info": {
      "name": "python"
    }
  },
  "cells": [
    {
      "cell_type": "markdown",
      "metadata": {
        "id": "view-in-github",
        "colab_type": "text"
      },
      "source": [
        "<a href=\"https://colab.research.google.com/github/menpente/Fintral/blob/master/prompt_engineering/prompting.ipynb\" target=\"_parent\"><img src=\"https://colab.research.google.com/assets/colab-badge.svg\" alt=\"Open In Colab\"/></a>"
      ]
    },
    {
      "cell_type": "code",
      "execution_count": null,
      "metadata": {
        "id": "81oZ-MN-357S"
      },
      "outputs": [],
      "source": [
        "!pip install transformers"
      ]
    },
    {
      "cell_type": "markdown",
      "source": [
        "Registrarse en Hugging Face y obtener un token aquí: https://huggingface.co/settings/tokens"
      ],
      "metadata": {
        "id": "56LTYo_b5p5o"
      }
    },
    {
      "cell_type": "code",
      "source": [
        "import pandas as pd\n",
        "from transformers import pipeline"
      ],
      "metadata": {
        "id": "Rsw4v5k5Crtn"
      },
      "execution_count": null,
      "outputs": []
    },
    {
      "cell_type": "code",
      "source": [
        "# Load the model\n",
        "model = pipeline('text-generation', model='microsoft/phi-2')\n",
        "# se puede cambiar el modelo por otro de los disponibles aquí https://huggingface.co/mistralai/Mistral-Nemo-Instruct-2407\n",
        "# algunos modelos requieren aceptar condiciones o registrarse"
      ],
      "metadata": {
        "id": "9JPuw7Xk_615"
      },
      "execution_count": null,
      "outputs": []
    },
    {
      "cell_type": "code",
      "source": [
        "# Define your prompts\n",
        "prompts = [\n",
        "    \"Explain the significance of prompt engineering in AI.\",\n",
        "    \"What are the benefits of using LLMs in education?\",\n",
        "    \"Describe the impact of AI on healthcare.\"\n",
        "]\n",
        "\n",
        "# Initialize a list to store the results\n",
        "results = []\n",
        "\n",
        "# Generate responses for each prompt\n",
        "for prompt in prompts:\n",
        "    response = model(prompt, max_length=100)[0]['generated_text']\n",
        "    results.append({'prompt': prompt, 'response': response})\n",
        "\n",
        "# Create a DataFrame from the results\n",
        "df = pd.DataFrame(results)\n",
        "\n",
        "# Save the DataFrame to a CSV file\n",
        "df.to_csv('prompt_responses.csv', index=False)\n",
        "\n",
        "print(\"Results saved to prompt_responses.csv\")\n"
      ],
      "metadata": {
        "id": "pbmIvX_OCe5j"
      },
      "execution_count": null,
      "outputs": []
    }
  ]
}